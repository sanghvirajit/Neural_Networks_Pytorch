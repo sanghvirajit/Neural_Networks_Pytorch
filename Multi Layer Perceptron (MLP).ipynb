{
 "cells": [
  {
   "cell_type": "code",
   "execution_count": 1,
   "metadata": {},
   "outputs": [
    {
     "name": "stderr",
     "output_type": "stream",
     "text": [
      "\n",
      "Bad key \"text.kerning_factor\" on line 4 in\n",
      "C:\\Users\\Rajit_Sanghvi\\Anaconda3\\lib\\site-packages\\matplotlib\\mpl-data\\stylelib\\_classic_test_patch.mplstyle.\n",
      "You probably need to get an updated matplotlibrc file from\n",
      "http://github.com/matplotlib/matplotlib/blob/master/matplotlibrc.template\n",
      "or from the matplotlib source distribution\n"
     ]
    }
   ],
   "source": [
    "import numpy as np \n",
    "import pandas as pd\n",
    "\n",
    "import torch\n",
    "import torch.nn as nn\n",
    "import torch.nn.functional as F\n",
    "import torch.utils.data\n",
    "from torch.autograd import Variable\n",
    "import torch.optim as optim\n",
    "import torchvision\n",
    "import torchvision.transforms as transforms\n",
    "import matplotlib.pyplot as plt\n",
    "\n",
    "import torchvision.datasets as datasets"
   ]
  },
  {
   "cell_type": "code",
   "execution_count": 2,
   "metadata": {},
   "outputs": [],
   "source": [
    "transform = transforms.Compose([transforms.ToTensor(),\n",
    "                              transforms.Normalize((0.5,), (0.5,)),\n",
    "                              ])"
   ]
  },
  {
   "cell_type": "code",
   "execution_count": 3,
   "metadata": {},
   "outputs": [],
   "source": [
    "# let’s initialize the MNIST train and test set.\n",
    "mnist_trainset = datasets.MNIST(root='./data', train=True, download=True, transform=transform)\n",
    "mnist_testset = datasets.MNIST(root='./data', train=False, download=True, transform=transform)"
   ]
  },
  {
   "cell_type": "code",
   "execution_count": 4,
   "metadata": {},
   "outputs": [],
   "source": [
    "train_batch_size = 6000\n",
    "test_batch_size = 1000"
   ]
  },
  {
   "cell_type": "code",
   "execution_count": 5,
   "metadata": {},
   "outputs": [],
   "source": [
    "train_loader = torch.utils.data.DataLoader(\n",
    "                 dataset=mnist_trainset,\n",
    "                 batch_size=train_batch_size, shuffle=False)\n",
    "test_loader = torch.utils.data.DataLoader(\n",
    "                dataset=mnist_testset,\n",
    "                batch_size=test_batch_size, shuffle=False)"
   ]
  },
  {
   "cell_type": "code",
   "execution_count": 6,
   "metadata": {
    "scrolled": true
   },
   "outputs": [
    {
     "name": "stdout",
     "output_type": "stream",
     "text": [
      "torch.Size([6000, 1, 28, 28])\n",
      "torch.Size([6000])\n"
     ]
    }
   ],
   "source": [
    "dataiter = iter(train_loader)\n",
    "X_batch, y_batch = dataiter.next()\n",
    "\n",
    "print(X_batch.shape)\n",
    "print(y_batch.shape)"
   ]
  },
  {
   "cell_type": "code",
   "execution_count": 7,
   "metadata": {
    "scrolled": true
   },
   "outputs": [
    {
     "name": "stdout",
     "output_type": "stream",
     "text": [
      "tensor(5)\n"
     ]
    },
    {
     "data": {
      "image/png": "[encoded data removed]",
      "text/plain": [
       "<Figure size 432x288 with 1 Axes>"
      ]
     },
     "metadata": {},
     "output_type": "display_data"
    }
   ],
   "source": [
    "plt.imshow(X_batch[0].numpy().squeeze(), cmap='gray_r'); print(y_batch[0])"
   ]
  },
  {
   "cell_type": "code",
   "execution_count": 8,
   "metadata": {},
   "outputs": [
    {
     "name": "stdout",
     "output_type": "stream",
     "text": [
      "MLP(\n",
      "  (linear1): Linear(in_features=784, out_features=250, bias=True)\n",
      "  (linear2): Linear(in_features=250, out_features=100, bias=True)\n",
      "  (linear3): Linear(in_features=100, out_features=10, bias=True)\n",
      ")\n"
     ]
    }
   ],
   "source": [
    "input_size = 784\n",
    "hidden_layer = [250, 100]\n",
    "output_size = 10\n",
    "\n",
    "class MLP(nn.Module):\n",
    "    def __init__(self):\n",
    "        super(MLP, self).__init__()\n",
    "        self.linear1 = nn.Linear(input_size, hidden_layer[0])\n",
    "        self.linear2 = nn.Linear(hidden_layer[0], hidden_layer[1])\n",
    "        self.linear3 = nn.Linear(hidden_layer[1], output_size)\n",
    "    \n",
    "    def forward(self,X):\n",
    "        X = F.relu(self.linear1(X))\n",
    "        X = F.relu(self.linear2(X))\n",
    "        X = F.softmax(self.linear3(X), dim=1)\n",
    "        return X\n",
    " \n",
    "mlp = MLP()\n",
    "print(mlp)"
   ]
  },
  {
   "cell_type": "code",
   "execution_count": 11,
   "metadata": {},
   "outputs": [],
   "source": [
    "def fit(model, train_loader):\n",
    "           \n",
    "    # Adam optimizer\n",
    "    optimizer = torch.optim.Adam(model.parameters()) # lr=0.001, betas=(0.9,0.999))\n",
    "    \n",
    "    # cross entropy function\n",
    "    error = nn.CrossEntropyLoss()\n",
    "    \n",
    "    EPOCHS = 20\n",
    "        \n",
    "    for epoch in range(EPOCHS):\n",
    "        correct = 0\n",
    "        for batch_idx, (X_batch, y_batch) in enumerate(train_loader):\n",
    "            \n",
    "            # wrapping tensors in variables,  If x is a Variable then x.data is a Tensor giving its value, \n",
    "            # and x.grad is another Variable holding the gradient of x with respect to some scalar value\n",
    "            var_X_batch = Variable(X_batch).float()\n",
    "            var_y_batch = Variable(y_batch)\n",
    "            \n",
    "            var_X_batch = torch.reshape(var_X_batch, (train_batch_size, 784))\n",
    "                        \n",
    "            # we need to set the gradients to zero before starting to do backpropragation\n",
    "            optimizer.zero_grad()\n",
    "            \n",
    "            # output of the model\n",
    "            output = model.forward(var_X_batch)\n",
    "                        \n",
    "            # Calculating the loss \n",
    "            loss = error(output, var_y_batch)\n",
    "            \n",
    "            # Let's do backpropogation, it will calculate all the gradients and save to x.grad\n",
    "            loss.backward()\n",
    "            \n",
    "            # Performs a single optimization step,  \n",
    "            #parameter update based on the current gradient (stored in .grad attribute of a parameter) and the update rule\n",
    "            optimizer.step()\n",
    "            \n",
    "            # Total correct predictions\n",
    "            predicted = torch.max(output.data, 1)[1] \n",
    "            correct += (predicted == var_y_batch).sum()\n",
    "            \n",
    "        \n",
    "        print('Epoch : {} [{}/{} ({:.0f}%)]\\tLoss: {:.6f}\\t Accuracy:{:.3f}%'.format(\n",
    "            epoch+1, \n",
    "            (batch_idx+1)*(len(X_batch)), \n",
    "            len(train_loader.dataset), \n",
    "            100.*(batch_idx+1) / len(train_loader), \n",
    "            loss.data, \n",
    "            float(correct*100) / float(train_batch_size*(batch_idx+1))))"
   ]
  },
  {
   "cell_type": "code",
   "execution_count": 12,
   "metadata": {},
   "outputs": [
    {
     "name": "stdout",
     "output_type": "stream",
     "text": [
      "Epoch : 1 [60000/60000 (100%)]\tLoss: 1.693004\t Accuracy:74.147%\n",
      "Epoch : 2 [60000/60000 (100%)]\tLoss: 1.685052\t Accuracy:76.448%\n",
      "Epoch : 3 [60000/60000 (100%)]\tLoss: 1.669223\t Accuracy:77.047%\n",
      "Epoch : 4 [60000/60000 (100%)]\tLoss: 1.617264\t Accuracy:81.402%\n",
      "Epoch : 5 [60000/60000 (100%)]\tLoss: 1.569887\t Accuracy:87.512%\n",
      "Epoch : 6 [60000/60000 (100%)]\tLoss: 1.551165\t Accuracy:89.763%\n",
      "Epoch : 7 [60000/60000 (100%)]\tLoss: 1.543229\t Accuracy:90.705%\n",
      "Epoch : 8 [60000/60000 (100%)]\tLoss: 1.537629\t Accuracy:91.303%\n",
      "Epoch : 9 [60000/60000 (100%)]\tLoss: 1.533817\t Accuracy:91.787%\n",
      "Epoch : 10 [60000/60000 (100%)]\tLoss: 1.530866\t Accuracy:92.085%\n",
      "Epoch : 11 [60000/60000 (100%)]\tLoss: 1.528270\t Accuracy:92.363%\n",
      "Epoch : 12 [60000/60000 (100%)]\tLoss: 1.525823\t Accuracy:92.657%\n",
      "Epoch : 13 [60000/60000 (100%)]\tLoss: 1.523532\t Accuracy:92.845%\n",
      "Epoch : 14 [60000/60000 (100%)]\tLoss: 1.521345\t Accuracy:93.102%\n",
      "Epoch : 15 [60000/60000 (100%)]\tLoss: 1.519344\t Accuracy:93.305%\n",
      "Epoch : 16 [60000/60000 (100%)]\tLoss: 1.517404\t Accuracy:93.490%\n",
      "Epoch : 17 [60000/60000 (100%)]\tLoss: 1.515566\t Accuracy:93.667%\n",
      "Epoch : 18 [60000/60000 (100%)]\tLoss: 1.513850\t Accuracy:93.840%\n",
      "Epoch : 19 [60000/60000 (100%)]\tLoss: 1.512154\t Accuracy:94.013%\n",
      "Epoch : 20 [60000/60000 (100%)]\tLoss: 1.510553\t Accuracy:94.155%\n"
     ]
    }
   ],
   "source": [
    "fit(mlp, train_loader)"
   ]
  },
  {
   "cell_type": "code",
   "execution_count": 13,
   "metadata": {},
   "outputs": [
    {
     "name": "stdout",
     "output_type": "stream",
     "text": [
      "Test accuracy:93.640 % \n"
     ]
    }
   ],
   "source": [
    "def evaluate(model):\n",
    "#model = mlp\n",
    "    correct = 0 \n",
    "    for test_imgs, test_labels in test_loader:\n",
    "        \n",
    "        test_imgs = Variable(test_imgs).float()\n",
    "        test_imgs = torch.reshape(test_imgs, (test_batch_size, 784))\n",
    "        \n",
    "        output = model(test_imgs)\n",
    "        \n",
    "        predicted = torch.max(output,1)[1]\n",
    "        \n",
    "        correct += (predicted == test_labels).sum()\n",
    "        \n",
    "    print(\"Test accuracy:{:.3f} % \".format( float(correct*100) / (len(test_loader)*test_batch_size)))\n",
    "    \n",
    "evaluate(mlp)"
   ]
  },
  {
   "cell_type": "code",
   "execution_count": null,
   "metadata": {},
   "outputs": [],
   "source": []
  }
 ],
 "metadata": {
  "kernelspec": {
   "display_name": "Python 3",
   "language": "python",
   "name": "python3"
  },
  "language_info": {
   "codemirror_mode": {
    "name": "ipython",
    "version": 3
   },
   "file_extension": ".py",
   "mimetype": "text/x-python",
   "name": "python",
   "nbconvert_exporter": "python",
   "pygments_lexer": "ipython3",
   "version": "3.6.4"
  }
 },
 "nbformat": 4,
 "nbformat_minor": 2
}
