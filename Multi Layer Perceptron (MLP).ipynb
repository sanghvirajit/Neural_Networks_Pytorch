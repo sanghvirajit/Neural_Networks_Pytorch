{
 "cells": [
  {
   "cell_type": "code",
   "execution_count": 60,
   "metadata": {},
   "outputs": [],
   "source": [
    "import numpy as np \n",
    "import pandas as pd\n",
    "\n",
    "import torch\n",
    "import torch.nn as nn\n",
    "import torch.nn.functional as F\n",
    "import torch.utils.data\n",
    "from torch.autograd import Variable\n",
    "import torch.optim as optim\n",
    "import torchvision\n",
    "import torchvision.transforms as transforms\n",
    "import matplotlib.pyplot as plt\n",
    "\n",
    "import torchvision.datasets as datasets"
   ]
  },
  {
   "cell_type": "code",
   "execution_count": 61,
   "metadata": {},
   "outputs": [],
   "source": [
    "transform = transforms.Compose([transforms.ToTensor(),\n",
    "                              transforms.Normalize((0.5,), (0.5,)),\n",
    "                              ])"
   ]
  },
  {
   "cell_type": "code",
   "execution_count": 62,
   "metadata": {},
   "outputs": [],
   "source": [
    "# let’s initialize the MNIST train and test set.\n",
    "mnist_trainset = datasets.MNIST(root='./data', train=True, download=True, transform=transform)\n",
    "mnist_testset = datasets.MNIST(root='./data', train=False, download=True, transform=transform)"
   ]
  },
  {
   "cell_type": "code",
   "execution_count": 63,
   "metadata": {},
   "outputs": [],
   "source": [
    "train_batch_size = 6000\n",
    "test_batch_size = 1000"
   ]
  },
  {
   "cell_type": "code",
   "execution_count": 64,
   "metadata": {},
   "outputs": [],
   "source": [
    "train_loader = torch.utils.data.DataLoader(\n",
    "                 dataset=mnist_trainset,\n",
    "                 batch_size=train_batch_size, shuffle=False)\n",
    "test_loader = torch.utils.data.DataLoader(\n",
    "                dataset=mnist_testset,\n",
    "                batch_size=test_batch_size, shuffle=False)"
   ]
  },
  {
   "cell_type": "code",
   "execution_count": 65,
   "metadata": {
    "scrolled": true
   },
   "outputs": [
    {
     "name": "stdout",
     "output_type": "stream",
     "text": [
      "torch.Size([6000, 1, 28, 28])\n",
      "torch.Size([6000])\n"
     ]
    }
   ],
   "source": [
    "dataiter = iter(train_loader)\n",
    "X_batch, y_batch = dataiter.next()\n",
    "\n",
    "print(X_batch.shape)\n",
    "print(y_batch.shape)"
   ]
  },
  {
   "cell_type": "code",
   "execution_count": 66,
   "metadata": {
    "scrolled": true
   },
   "outputs": [
    {
     "name": "stdout",
     "output_type": "stream",
     "text": [
      "tensor(5)\n"
     ]
    },
    {
     "data": {
      "image/png": "[encoded data removed]",
      "text/plain": [
       "<Figure size 432x288 with 1 Axes>"
      ]
     },
     "metadata": {},
     "output_type": "display_data"
    }
   ],
   "source": [
    "plt.imshow(X_batch[0].numpy().squeeze(), cmap='gray_r'); print(y_batch[0])"
   ]
  },
  {
   "cell_type": "code",
   "execution_count": 67,
   "metadata": {
    "scrolled": true
   },
   "outputs": [
    {
     "name": "stdout",
     "output_type": "stream",
     "text": [
      "MLP(\n",
      "  (linear1): Linear(in_features=784, out_features=250, bias=True)\n",
      "  (linear2): Linear(in_features=250, out_features=100, bias=True)\n",
      "  (linear3): Linear(in_features=100, out_features=10, bias=True)\n",
      ")\n"
     ]
    }
   ],
   "source": [
    "input_size = 784\n",
    "hidden_layer = [250, 100]\n",
    "output_size = 10\n",
    "\n",
    "class MLP(nn.Module):\n",
    "    def __init__(self):\n",
    "        super(MLP, self).__init__()\n",
    "        self.linear1 = nn.Linear(input_size, hidden_layer[0])\n",
    "        self.linear2 = nn.Linear(hidden_layer[0], hidden_layer[1])\n",
    "        self.linear3 = nn.Linear(hidden_layer[1], output_size)\n",
    "    \n",
    "    def forward(self,X):\n",
    "        X = F.relu(self.linear1(X))\n",
    "        X = F.relu(self.linear2(X))\n",
    "        X = F.softmax(self.linear3(X), dim=1)\n",
    "        return X\n",
    " \n",
    "mlp = MLP()\n",
    "print(mlp)"
   ]
  },
  {
   "cell_type": "code",
   "execution_count": 68,
   "metadata": {},
   "outputs": [],
   "source": [
    "def evaluate(model):\n",
    "#model = mlp\n",
    "    correct = 0 \n",
    "    for test_imgs, test_labels in test_loader:\n",
    "        \n",
    "        test_imgs = Variable(test_imgs).float()\n",
    "        test_imgs = torch.reshape(test_imgs, (test_batch_size, 784))\n",
    "        \n",
    "        output = model.forward(test_imgs)\n",
    "        \n",
    "        predicted = torch.max(output,1)[1]\n",
    "        \n",
    "        correct += (predicted == test_labels).sum()\n",
    "        accuracy = float(correct*100) / (len(test_loader)*test_batch_size)\n",
    "    \n",
    "    #print(\"Test accuracy:{:.3f} % \".format(accuracy))\n",
    "    return accuracy"
   ]
  },
  {
   "cell_type": "code",
   "execution_count": 69,
   "metadata": {},
   "outputs": [],
   "source": [
    "def fit(model, train_loader, epochs, optimizer, loss):\n",
    "    \n",
    "    epochs_list = []\n",
    "    loss_list = []\n",
    "    train_accuracy_list = []\n",
    "    test_accuracy_list = []\n",
    "    \n",
    "    if optimizer == 'Adam': \n",
    "        # Adam optimizer\n",
    "        optimizer = torch.optim.Adam(model.parameters()) # lr=0.001, betas=(0.9,0.999))\n",
    "    \n",
    "    if loss == 'CrossEntropy':\n",
    "        # cross entropy function\n",
    "        error = nn.CrossEntropyLoss()\n",
    "        \n",
    "    for epoch in range(epochs):\n",
    "                \n",
    "        correct = 0\n",
    "        for batch_idx, (X_batch, y_batch) in enumerate(train_loader):\n",
    "            \n",
    "            # wrapping tensors in variables,  If x is a Variable then x.data is a Tensor giving its value, \n",
    "            # and x.grad is another Variable holding the gradient of x with respect to some scalar value\n",
    "            var_X_batch = Variable(X_batch).float()\n",
    "            var_y_batch = Variable(y_batch)\n",
    "            \n",
    "            var_X_batch = torch.reshape(var_X_batch, (train_batch_size, 784))\n",
    "                        \n",
    "            # we need to set the gradients to zero before starting to do backpropragation\n",
    "            optimizer.zero_grad()\n",
    "            \n",
    "            # output of the model\n",
    "            output = model.forward(var_X_batch)\n",
    "                        \n",
    "            # Calculating the loss \n",
    "            loss = error(output, var_y_batch)\n",
    "            \n",
    "            # Let's do backpropogation, it will calculate all the gradients and save to x.grad\n",
    "            loss.backward()\n",
    "            \n",
    "            # Performs a single optimization step,  \n",
    "            #parameter update based on the current gradient (stored in .grad attribute of a parameter) and the update rule\n",
    "            optimizer.step()\n",
    "            \n",
    "            # Total correct predictions\n",
    "            predicted = torch.max(output.data, 1)[1] \n",
    "            correct += (predicted == var_y_batch).sum()\n",
    "            accuracy = float(correct*100) / float(train_batch_size*(batch_idx+1))\n",
    "        \n",
    "        # Training accuracy\n",
    "        epochs_list.append(epoch)\n",
    "        loss_list.append(loss.data)\n",
    "        train_accuracy_list.append(accuracy)\n",
    "        \n",
    "        # Testing accuracy\n",
    "        test_accuracy = evaluate(model)\n",
    "        test_accuracy_list.append(test_accuracy)\n",
    "        \n",
    "        print('Epoch : {} [{}/{} ({:.0f}%)]\\tLoss: {:.6f}\\t Accuracy:{:.3f}%'.format(\n",
    "            epoch+1, \n",
    "            (batch_idx+1)*(len(X_batch)), \n",
    "            len(train_loader.dataset), \n",
    "            100.*(batch_idx+1) / len(train_loader), \n",
    "            loss.data, \n",
    "            accuracy))\n",
    "                                                  \n",
    "    # accuracy Plot\n",
    "    train_accuracy_array = np.array(train_accuracy_list)\n",
    "    y_train_accuracy = train_accuracy_array.reshape(-1, 1)\n",
    "    \n",
    "    test_accuracy_array = np.array(test_accuracy_list)\n",
    "    y_test_accuracy = test_accuracy_array.reshape(-1, 1)\n",
    "\n",
    "    # Loss Plot\n",
    "    loss_array_array = np.array(loss_list)\n",
    "    y_loss = loss_array_array.reshape(-1, 1)\n",
    "    \n",
    "    x_epochs = np.array(epochs_list).reshape(-1, 1)\n",
    "                                                  \n",
    "    plt.figure(figsize=(12, 5))\n",
    "    \n",
    "    plt.subplot(1, 2, 1)\n",
    "    plt.plot(x_epochs, y_loss)\n",
    "    plt.xlabel('epochs')\n",
    "    plt.ylabel('Loss')\n",
    "    plt.title('epochs_vs_loss')\n",
    "    \n",
    "    plt.subplot(1, 2, 2)\n",
    "    plt.plot(x_epochs, y_train_accuracy, label='Training accuracy')\n",
    "    plt.plot(x_epochs, y_test_accuracy, label='Testing accuracy')\n",
    "    plt.xlabel('epochs')\n",
    "    plt.ylabel('accuracy')\n",
    "    plt.title('epochs_vs_accuracy')\n",
    "    plt.legend()\n",
    "    \n",
    "    fig1 = plt.gcf()\n",
    "    plt.show()"
   ]
  },
  {
   "cell_type": "code",
   "execution_count": 70,
   "metadata": {},
   "outputs": [
    {
     "name": "stdout",
     "output_type": "stream",
     "text": [
      "Epoch : 1 [60000/60000 (100%)]\tLoss: 2.090410\t Accuracy:29.932%\n",
      "Epoch : 2 [60000/60000 (100%)]\tLoss: 1.850303\t Accuracy:58.480%\n",
      "Epoch : 3 [60000/60000 (100%)]\tLoss: 1.721335\t Accuracy:73.208%\n",
      "Epoch : 4 [60000/60000 (100%)]\tLoss: 1.665780\t Accuracy:78.950%\n",
      "Epoch : 5 [60000/60000 (100%)]\tLoss: 1.642808\t Accuracy:81.180%\n",
      "Epoch : 6 [60000/60000 (100%)]\tLoss: 1.630992\t Accuracy:82.178%\n",
      "Epoch : 7 [60000/60000 (100%)]\tLoss: 1.622933\t Accuracy:82.825%\n",
      "Epoch : 8 [60000/60000 (100%)]\tLoss: 1.618333\t Accuracy:83.335%\n",
      "Epoch : 9 [60000/60000 (100%)]\tLoss: 1.614995\t Accuracy:83.695%\n",
      "Epoch : 10 [60000/60000 (100%)]\tLoss: 1.611806\t Accuracy:84.043%\n",
      "Epoch : 11 [60000/60000 (100%)]\tLoss: 1.609303\t Accuracy:84.298%\n",
      "Epoch : 12 [60000/60000 (100%)]\tLoss: 1.607474\t Accuracy:84.537%\n",
      "Epoch : 13 [60000/60000 (100%)]\tLoss: 1.605897\t Accuracy:84.690%\n",
      "Epoch : 14 [60000/60000 (100%)]\tLoss: 1.604500\t Accuracy:84.850%\n",
      "Epoch : 15 [60000/60000 (100%)]\tLoss: 1.603127\t Accuracy:85.012%\n",
      "Epoch : 16 [60000/60000 (100%)]\tLoss: 1.601712\t Accuracy:85.137%\n",
      "Epoch : 17 [60000/60000 (100%)]\tLoss: 1.600396\t Accuracy:85.227%\n",
      "Epoch : 18 [60000/60000 (100%)]\tLoss: 1.599113\t Accuracy:85.375%\n",
      "Epoch : 19 [60000/60000 (100%)]\tLoss: 1.597916\t Accuracy:85.493%\n",
      "Epoch : 20 [60000/60000 (100%)]\tLoss: 1.596701\t Accuracy:85.618%\n",
      "Epoch : 21 [60000/60000 (100%)]\tLoss: 1.595432\t Accuracy:85.732%\n",
      "Epoch : 22 [60000/60000 (100%)]\tLoss: 1.594304\t Accuracy:85.843%\n",
      "Epoch : 23 [60000/60000 (100%)]\tLoss: 1.593088\t Accuracy:85.948%\n",
      "Epoch : 24 [60000/60000 (100%)]\tLoss: 1.592028\t Accuracy:86.037%\n",
      "Epoch : 25 [60000/60000 (100%)]\tLoss: 1.590950\t Accuracy:86.147%\n",
      "Epoch : 26 [60000/60000 (100%)]\tLoss: 1.589905\t Accuracy:86.248%\n",
      "Epoch : 27 [60000/60000 (100%)]\tLoss: 1.588886\t Accuracy:86.345%\n",
      "Epoch : 28 [60000/60000 (100%)]\tLoss: 1.587892\t Accuracy:86.442%\n",
      "Epoch : 29 [60000/60000 (100%)]\tLoss: 1.586874\t Accuracy:86.527%\n",
      "Epoch : 30 [60000/60000 (100%)]\tLoss: 1.585878\t Accuracy:86.617%\n",
      "Epoch : 31 [60000/60000 (100%)]\tLoss: 1.585012\t Accuracy:86.697%\n",
      "Epoch : 32 [60000/60000 (100%)]\tLoss: 1.584187\t Accuracy:86.762%\n",
      "Epoch : 33 [60000/60000 (100%)]\tLoss: 1.583438\t Accuracy:86.845%\n",
      "Epoch : 34 [60000/60000 (100%)]\tLoss: 1.582742\t Accuracy:86.922%\n",
      "Epoch : 35 [60000/60000 (100%)]\tLoss: 1.582101\t Accuracy:87.003%\n",
      "Epoch : 36 [60000/60000 (100%)]\tLoss: 1.581551\t Accuracy:87.083%\n",
      "Epoch : 37 [60000/60000 (100%)]\tLoss: 1.580948\t Accuracy:87.155%\n",
      "Epoch : 38 [60000/60000 (100%)]\tLoss: 1.580351\t Accuracy:87.203%\n",
      "Epoch : 39 [60000/60000 (100%)]\tLoss: 1.579807\t Accuracy:87.272%\n",
      "Epoch : 40 [60000/60000 (100%)]\tLoss: 1.579320\t Accuracy:87.333%\n"
     ]
    },
    {
     "data": {
      "image/png": "[encoded data removed]",
      "text/plain": [
       "<Figure size 864x360 with 2 Axes>"
      ]
     },
     "metadata": {},
     "output_type": "display_data"
    }
   ],
   "source": [
    "fit(mlp, train_loader, epochs=40, optimizer='Adam', loss='CrossEntropy')"
   ]
  },
  {
   "cell_type": "code",
   "execution_count": null,
   "metadata": {},
   "outputs": [],
   "source": []
  }
 ],
 "metadata": {
  "kernelspec": {
   "display_name": "Python 3",
   "language": "python",
   "name": "python3"
  },
  "language_info": {
   "codemirror_mode": {
    "name": "ipython",
    "version": 3
   },
   "file_extension": ".py",
   "mimetype": "text/x-python",
   "name": "python",
   "nbconvert_exporter": "python",
   "pygments_lexer": "ipython3",
   "version": "3.6.4"
  }
 },
 "nbformat": 4,
 "nbformat_minor": 2
}
